{
 "cells": [
  {
   "cell_type": "code",
   "execution_count": 57,
   "id": "89ccc070",
   "metadata": {},
   "outputs": [],
   "source": [
    "import pymupdf4llm\n",
    "import os\n",
    "\n",
    "Tool = \"PyMuPDF4LLM\"\n",
    "file_name = \"20250728_永續金融政策\"\n",
    "\n",
    "pdf_path = \"..\\永續資料_與中信有關\\政策與文件\\\\\" + file_name + \".pdf\"\n",
    "markdown_save_path = \"PDF_To_Markdown_OutputFile\\\\\" + Tool + \"\\\\markdown\\\\\"\n",
    "img_save_path = \"PDF_To_Markdown_OutputFile\\\\\" + Tool + \"\\\\img\\\\\""
   ]
  },
  {
   "cell_type": "markdown",
   "id": "b10d1a8e",
   "metadata": {},
   "source": [
    "## pymupdf4llm 基礎指令，將 PDF 檔轉 Markdown"
   ]
  },
  {
   "cell_type": "code",
   "execution_count": 52,
   "id": "e63a50d3",
   "metadata": {},
   "outputs": [],
   "source": [
    "md_text = pymupdf4llm.to_markdown(pdf_path)\n",
    "\n",
    "with open(markdown_save_path + file_name + \"_test1.md\", \"w\", encoding=\"utf-8\") as f:\n",
    "    f.write(md_text)"
   ]
  },
  {
   "cell_type": "markdown",
   "id": "9c448e8f",
   "metadata": {},
   "source": [
    "### pymupdf4llm 的 LlamaMarkdownReader"
   ]
  },
  {
   "cell_type": "code",
   "execution_count": 64,
   "id": "68d71a49",
   "metadata": {},
   "outputs": [],
   "source": [
    "from pymupdf4llm import LlamaMarkdownReader\n",
    "\n",
    "reader = LlamaMarkdownReader()\n",
    "documents = reader.load_data(\n",
    "    file_path = pdf_path\n",
    ")\n",
    "\n",
    "# print(f\"共有 {len(documents)} 頁\")\n",
    "\n",
    "\n",
    "# for i, doc in enumerate(documents):\n",
    "#     file_path = os.path.join(save_path, f\"page_{i+1}.md\")\n",
    "#     with open(file_path, \"w\", encoding=\"utf-8\") as f:\n",
    "#         f.write(f\"# Page {i+1}\\n\\n\") \n",
    "#         f.write(doc.text)\n",
    "\n",
    "# for i, doc in enumerate(documents[:2]):\n",
    "#     print(f\"\\n--- Page {i+1} ---\")\n",
    "#     print(doc.text[:300])"
   ]
  },
  {
   "cell_type": "code",
   "execution_count": 75,
   "id": "a09430b8",
   "metadata": {},
   "outputs": [
    {
     "ename": "TypeError",
     "evalue": "bad filename: type(filename)=<class 'pymupdf.Page'> filename=page 2 of ..\\永續資料_與中信有關\\政策與文件\\20250728_永續金融政策.pdf.",
     "output_type": "error",
     "traceback": [
      "\u001b[31m---------------------------------------------------------------------------\u001b[39m",
      "\u001b[31mTypeError\u001b[39m                                 Traceback (most recent call last)",
      "\u001b[32m~\\AppData\\Local\\Temp\\ipykernel_7684\\524528997.py\u001b[39m in \u001b[36m?\u001b[39m\u001b[34m()\u001b[39m\n\u001b[32m      3\u001b[39m \u001b[38;5;28;01mfrom\u001b[39;00m langchain.schema \u001b[38;5;28;01mimport\u001b[39;00m Document\n\u001b[32m      4\u001b[39m \n\u001b[32m      5\u001b[39m \n\u001b[32m      6\u001b[39m doc = fitz.open(pdf_path)\n\u001b[32m----> \u001b[39m\u001b[32m7\u001b[39m md2 = to_markdown(doc[\u001b[32m2\u001b[39m])\n\u001b[32m      8\u001b[39m md2\n\u001b[32m      9\u001b[39m \n\u001b[32m     10\u001b[39m \n",
      "\u001b[32mc:\\Users\\user\\Downloads\\202507 工作資料\\永續專案\\PDF_To_Markdown\\.venv\\Lib\\site-packages\\pymupdf4llm\\helpers\\pymupdf_rag.py\u001b[39m in \u001b[36m?\u001b[39m\u001b[34m(doc, pages, hdr_info, write_images, embed_images, ignore_images, ignore_graphics, detect_bg_color, image_path, image_format, image_size_limit, filename, force_text, page_chunks, page_separators, margins, dpi, page_width, page_height, table_strategy, graphics_limit, fontsize_limit, ignore_code, extract_words, show_progress, use_glyphs, ignore_alpha)\u001b[39m\n\u001b[32m    374\u001b[39m     \u001b[38;5;28;01mif\u001b[39;00m IMG_PATH \u001b[38;5;28;01mand\u001b[39;00m write_images \u001b[38;5;28;01mis\u001b[39;00m \u001b[38;5;28;01mTrue\u001b[39;00m \u001b[38;5;28;01mand\u001b[39;00m \u001b[38;5;28;01mnot\u001b[39;00m os.path.exists(IMG_PATH):\n\u001b[32m    375\u001b[39m         os.mkdir(IMG_PATH)\n\u001b[32m    376\u001b[39m \n\u001b[32m    377\u001b[39m     \u001b[38;5;28;01mif\u001b[39;00m \u001b[38;5;28;01mnot\u001b[39;00m isinstance(doc, pymupdf.Document):\n\u001b[32m--> \u001b[39m\u001b[32m378\u001b[39m         doc = pymupdf.open(doc)\n\u001b[32m    379\u001b[39m \n\u001b[32m    380\u001b[39m     FILENAME = doc.name \u001b[38;5;28;01mif\u001b[39;00m filename \u001b[38;5;28;01mis\u001b[39;00m \u001b[38;5;28;01mNone\u001b[39;00m \u001b[38;5;28;01melse\u001b[39;00m filename\n\u001b[32m    381\u001b[39m     GRAPHICS_LIMIT = graphics_limit\n",
      "\u001b[32mc:\\Users\\user\\Downloads\\202507 工作資料\\永續專案\\PDF_To_Markdown\\.venv\\Lib\\site-packages\\pymupdf\\__init__.py\u001b[39m in \u001b[36m?\u001b[39m\u001b[34m(self, filename, stream, filetype, rect, width, height, fontsize)\u001b[39m\n\u001b[32m   3012\u001b[39m                     self.page_count2 = extra.page_count_pdf\n\u001b[32m   3013\u001b[39m                 \u001b[38;5;28;01melse\u001b[39;00m:\n\u001b[32m   3014\u001b[39m                     self.page_count2 = extra.page_count_fz\n\u001b[32m   3015\u001b[39m         \u001b[38;5;28;01mfinally\u001b[39;00m:\n\u001b[32m-> \u001b[39m\u001b[32m3016\u001b[39m             JM_mupdf_show_errors = JM_mupdf_show_errors_old\n",
      "\u001b[31mTypeError\u001b[39m: bad filename: type(filename)=<class 'pymupdf.Page'> filename=page 2 of ..\\永續資料_與中信有關\\政策與文件\\20250728_永續金融政策.pdf."
     ]
    }
   ],
   "source": [
    "import fitz  # PyMuPDF\n",
    "from pymupdf4llm.helpers.pymupdf_rag import to_markdown\n",
    "from langchain.schema import Document\n",
    "\n",
    "\n",
    "doc = fitz.open(pdf_path)\n",
    "md2 = to_markdown(doc[2])\n",
    "md2\n",
    "\n",
    "\n",
    "\n",
    "# all_chunks = []\n",
    "\n",
    "# for i, page in enumerate(doc):\n",
    "#     md = to_markdown(page)\n",
    "    \n",
    "#     # 可依標題切段（你也可改成每 500 字切一段）\n",
    "#     chunks = md.split(\"\\n## \")\n",
    "#     for chunk in chunks:\n",
    "#         text = chunk.strip()\n",
    "#         if text:\n",
    "#             # 建立 Document 物件以供 LangChain/Flow 使用\n",
    "#             all_chunks.append(Document(\n",
    "#                 page_content=\"## \" + text if i != 0 else text,\n",
    "#                 metadata={\"page\": i + 1, \"source\": pdf_path}\n",
    "#             ))\n"
   ]
  },
  {
   "cell_type": "code",
   "execution_count": null,
   "id": "f98634fc",
   "metadata": {},
   "outputs": [],
   "source": []
  }
 ],
 "metadata": {
  "kernelspec": {
   "display_name": ".venv (3.11.0)",
   "language": "python",
   "name": "python3"
  },
  "language_info": {
   "codemirror_mode": {
    "name": "ipython",
    "version": 3
   },
   "file_extension": ".py",
   "mimetype": "text/x-python",
   "name": "python",
   "nbconvert_exporter": "python",
   "pygments_lexer": "ipython3",
   "version": "3.11.0"
  }
 },
 "nbformat": 4,
 "nbformat_minor": 5
}
