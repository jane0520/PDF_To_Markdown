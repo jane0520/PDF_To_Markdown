{
 "cells": [
  {
   "cell_type": "code",
   "execution_count": 38,
   "id": "89ccc070",
   "metadata": {},
   "outputs": [],
   "source": [
    "import pymupdf4llm\n",
    "\n",
    "Tool = \"\\PyMuPDF4LLM\\\\\"\n",
    "file_name = \"\\\\20250728_永續金融政策\"\n",
    "pdf_path = \"..\\永續資料_與中信有關\\政策與文件\" + file_name + \".pdf\"\n",
    "save_path = \"PDF_To_Markdown_OutputFile\" + Tool"
   ]
  },
  {
   "cell_type": "markdown",
   "id": "b10d1a8e",
   "metadata": {},
   "source": [
    "## 基礎指令，將 PDF 檔轉 Markdown"
   ]
  },
  {
   "cell_type": "code",
   "execution_count": 39,
   "id": "e63a50d3",
   "metadata": {},
   "outputs": [],
   "source": [
    "md_text = pymupdf4llm.to_markdown(pdf_path)\n",
    "\n",
    "with open(save_path + file_name +\"_test1.md\", \"w\", encoding=\"utf-8\") as f:\n",
    "    f.write(md_text)"
   ]
  }
 ],
 "metadata": {
  "kernelspec": {
   "display_name": ".venv (3.11.0)",
   "language": "python",
   "name": "python3"
  },
  "language_info": {
   "codemirror_mode": {
    "name": "ipython",
    "version": 3
   },
   "file_extension": ".py",
   "mimetype": "text/x-python",
   "name": "python",
   "nbconvert_exporter": "python",
   "pygments_lexer": "ipython3",
   "version": "3.11.0"
  }
 },
 "nbformat": 4,
 "nbformat_minor": 5
}
