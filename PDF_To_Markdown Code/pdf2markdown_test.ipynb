{
 "cells": [
  {
   "cell_type": "markdown",
   "id": "8c585da3",
   "metadata": {},
   "source": [
    "## 使用 pdf2markdown4llm 將 pdf 轉 markdown 格式"
   ]
  },
  {
   "cell_type": "code",
   "execution_count": 1,
   "id": "3cf27378",
   "metadata": {},
   "outputs": [],
   "source": [
    "from pdf2markdown4llm import PDF2Markdown4LLM\n",
    "\n",
    "import pymupdf4llm"
   ]
  },
  {
   "cell_type": "markdown",
   "id": "a3bb75be",
   "metadata": {},
   "source": [
    "### 定義進度回呼函式\n",
    "建立一個 progress_callback 函式，可以在轉檔時即時顯示當前階段、處理頁碼、進度百分比與提示訊息。"
   ]
  },
  {
   "cell_type": "code",
   "execution_count": 2,
   "id": "a8005469",
   "metadata": {},
   "outputs": [],
   "source": [
    "def progress_callback(progress): \n",
    "    \"\"\"Callback function to handle progress\"\"\"\n",
    "    # 轉檔過程中，每個階段都會呼叫這個函式，顯示目前進度與訊息\n",
    "    print(f\"Phase: {progress.phase.value}, Page {progress.current_page}/{progress.total_pages}, Progress: {progress.percentage:.1f}%, Message: {progress.message}\")"
   ]
  },
  {
   "cell_type": "markdown",
   "id": "649bc60d",
   "metadata": {},
   "source": [
    "### 初始化轉換器 (Converter)\n",
    "設定轉檔時的一些選項。例如是否要移除頁首（headers）、略過空表格、表格標題的格式等，並連結上方定義的進度回呼。"
   ]
  },
  {
   "cell_type": "code",
   "execution_count": 3,
   "id": "b662d414",
   "metadata": {},
   "outputs": [],
   "source": [
    "# 初始化轉換器，指定轉檔選項與進度回呼\n",
    "converter = PDF2Markdown4LLM(\n",
    "    remove_headers=False,        # 不移除文件頁首\n",
    "    skip_empty_tables=True,      # 略過內容為空的表格\n",
    "    table_header=\"### Table\",    # 表格前新增自訂 Markdown 標題\n",
    "    progress_callback=progress_callback  # 設定進度回呼函式\n",
    ")"
   ]
  },
  {
   "cell_type": "markdown",
   "id": "5764d717",
   "metadata": {},
   "source": [
    "### 執行轉檔\n",
    "使用 converter.convert(\"input.pdf\") 進行 PDF 到 Markdown 的轉換，轉換進度會自動調用前述回呼函式。"
   ]
  },
  {
   "cell_type": "code",
   "execution_count": 4,
   "id": "7f843fe7",
   "metadata": {},
   "outputs": [],
   "source": [
    "# 指定你的 PDF 檔案路徑\n",
    "pdf_path = \"永續資料_與中信有關\\永續管理政策.pdf\""
   ]
  },
  {
   "cell_type": "code",
   "execution_count": 6,
   "id": "5c43bfdc",
   "metadata": {},
   "outputs": [
    {
     "name": "stdout",
     "output_type": "stream",
     "text": [
      "Processing 永續資料_與中信有關\\永續管理政策.pdf...\n",
      "[                                        ] (0/1=======================================[========================================] (1/1]\n"
     ]
    },
    {
     "data": {
      "text/plain": [
       "'```\\n中國信託金融控股股份有限公司\\n    永續管理政策\\n        版本<2.0>\\n    中國信託金融控股(股)公司\\n           著作權聲明\\n本文件所載之各項著作內容皆屬中國信託金融控股(股)公司所有，皆受到中華\\n 民國著作權法的保護，未經書面同意不得以任何形式修改、複製及轉載。\\n\\n```\\n管制文件, 禁止翻印\\n\\n```\\n            著作權聲明\\n 本文件所載之各項著作內容皆屬中國信託金融控股(股)公司所有，皆受到中華\\n  民國著作權法的保護，未經書面同意不得以任何形式修改、複製及轉載。\\n\\n```\\n\\n-----\\n\\n'"
      ]
     },
     "execution_count": 6,
     "metadata": {},
     "output_type": "execute_result"
    }
   ],
   "source": [
    "# 處理第1頁（Python中的頁碼從0開始）\n",
    "md_text = pymupdf4llm.to_markdown(pdf_path, pages=[0])\n",
    "md_text"
   ]
  },
  {
   "cell_type": "markdown",
   "id": "5d9dc991",
   "metadata": {},
   "source": [
    "分開輸出（分chunk）"
   ]
  },
  {
   "cell_type": "code",
   "execution_count": null,
   "id": "2ed58aed",
   "metadata": {},
   "outputs": [
    {
     "name": "stdout",
     "output_type": "stream",
     "text": [
      "Processing 永續資料_與中信有關\\永續管理政策.pdf...\n",
      "[                                        ] (0/5=======[========                                ] (1/5=======[================                        ] (2/5=======[========================                ] (3/5=======[================================        ] (4/5=======[========================================] (5/5]\n"
     ]
    }
   ],
   "source": [
    "data = pymupdf4llm.to_markdown(pdf_path, page_chunks=True)\n",
    "# data[0][\"text\"]  # 取得第一頁的 Markdown 內容\n",
    "# for i, page in enumerate(data):\n",
    "#     with open(f\"PDF_To_Markdown/page_{i+1}.md\", \"w\", encoding=\"utf-8\") as f:\n",
    "#         f.write(page[\"text\"])\n"
   ]
  },
  {
   "cell_type": "markdown",
   "id": "c8598d16",
   "metadata": {},
   "source": [
    "查看單一頁內容"
   ]
  },
  {
   "cell_type": "code",
   "execution_count": 15,
   "id": "ddaf91ae",
   "metadata": {},
   "outputs": [
    {
     "name": "stdout",
     "output_type": "stream",
     "text": [
      "```\n",
      "文件等級：公開\n",
      "\n",
      "```\n",
      "```\n",
      "   中國信託金融控股股份有限公司\n",
      "       永續管理政策\n",
      "第一條 制定依據及目的\n",
      "    中國信託金融控股(股)公司（以下稱「中信金控」或「本公司」）承諾\n",
      "    持續呼應聯合國永續發展目標(Sustainable Development Goals)，在兼顧\n",
      "    本公司業務成長、利害關係人（Stakeholder）權益以及環境、社會的\n",
      "    永續發展之下，訂定中信金控永續管理政策（以下稱「本政策」），作為\n",
      "    落實永續經營之遵循方針，並朝向2050淨零之目標邁進。\n",
      "\n",
      "```\n",
      "`本政策酌參聯合國「永續發展目標(Sustainable` Development Goals)」、「巴黎\n",
      "\n",
      "`協定(Paris Agreement)` `」、「全球盟約` (Global Compact) 」、「責任銀行原\n",
      "\n",
      "`則` (Principles for Responsible Banking) 」、「責任投資原則(Principles for\n",
      "\n",
      "Responsible Investment) 」、「 `永` `續` `保` `險` `原` `則 (Principles for Sustainable`\n",
      "\n",
      "Insurance)」、「科學基礎減量目標(Science-based targets, SBT)」等國際準\n",
      "```\n",
      "    則、協定與倡議，以及主管機關相關政策及法令。未盡規範事宜，另參\n",
      "    照本公司其他政策或辦法辦理。\n",
      "第二條 適用範圍\n",
      "    本政策適用於本公司及各子公司。\n",
      "第三條 管理架構\n",
      "    一、本政策權責單位為本公司企業永續部。\n",
      "    二、本公司建置永續管理組織如下圖，以落實本政策的推行。「企業永\n",
      "      續委員會」為董事會功能性委員會，另於經營管理階層下設\n",
      "      「ESG 執行小組」，依「公司治理、環境永續、員工照顧、永續金\n",
      "      融、社會參與及客戶關懷」六大面向，偕同各子公司經營管理階層，\n",
      "      訂定企業永續發展各範疇年度目標並定期進行追蹤控管。\n",
      "    三、企業永續部得彙整相關制定情形及實施成效，呈報董事會。\n",
      "\n",
      "```\n",
      "3\n",
      "\n",
      "\n",
      "-----\n",
      "\n",
      "\n"
     ]
    }
   ],
   "source": [
    "# 第三頁內容\n",
    "\n",
    "third_page_md = data[2][\"text\"]  # data[2] 是第三頁\n",
    "print(third_page_md)"
   ]
  },
  {
   "cell_type": "markdown",
   "id": "eea237fe",
   "metadata": {},
   "source": [
    "### LlamaIndex 支援\n",
    "專為 LLM/RAG 框架資料流程設計，讓 PDF 內容直接變成可用於資訊檢索的 document list 物件，含頁碼與摘要等 metadata"
   ]
  },
  {
   "cell_type": "code",
   "execution_count": 5,
   "id": "753652ed",
   "metadata": {},
   "outputs": [],
   "source": [
    "def clean_markdown(raw_md):\n",
    "    # 去掉多個 ```\n",
    "    import re\n",
    "    # 清除所有獨立行內 ``` 或 ```\n",
    "    cleaned = re.sub(r'^\\s*`{3,}\\s*$', '', raw_md, flags=re.MULTILINE)\n",
    "    # 合併被斷行的句子\n",
    "    cleaned = re.sub(r'([^\\n])\\n([^\\n])', r'\\1\\2', cleaned)\n",
    "    # 可根據 PDF 條例格式繼續調整\n",
    "    return cleaned.strip()"
   ]
  },
  {
   "cell_type": "code",
   "execution_count": 6,
   "id": "ca29e505",
   "metadata": {},
   "outputs": [
    {
     "name": "stdout",
     "output_type": "stream",
     "text": [
      "Successfully imported LlamaIndex\n",
      "Processing 永續資料_與中信有關\\永續管理政策.pdf...\n",
      "[                                        ] (0/1=======================================[========================================] (1/1]\n",
      "Processing 永續資料_與中信有關\\永續管理政策.pdf...\n",
      "[                                        ] (0/1=======================================[========================================] (1/1]\n",
      "Processing 永續資料_與中信有關\\永續管理政策.pdf...\n",
      "[                                        ] (0/1=======================================[========================================] (1/1]\n",
      "Processing 永續資料_與中信有關\\永續管理政策.pdf...\n",
      "[                                        ] (0/1=======================================[========================================] (1/1]\n",
      "Processing 永續資料_與中信有關\\永續管理政策.pdf...\n",
      "[                                        ] (0/1=======================================[========================================] (1/1]\n"
     ]
    }
   ],
   "source": [
    "llama_reader = pymupdf4llm.LlamaMarkdownReader()\n",
    "llama_docs = llama_reader.load_data(pdf_path)"
   ]
  },
  {
   "cell_type": "code",
   "execution_count": 9,
   "id": "4a953d71",
   "metadata": {},
   "outputs": [
    {
     "data": {
      "text/plain": [
       "Document(id_='f98b6db8-9e6d-4080-8478-c2387f44244e', embedding=None, metadata={'format': 'PDF 1.7', 'title': '中信金控永續管理政策', 'author': 'z09562', 'subject': '', 'keywords': '', 'creator': '適用於 Microsoft 365 的 Microsoft® Word', 'producer': '適用於 Microsoft 365 的 Microsoft® Word', 'creationDate': \"D:20240801135325+08'00'\", 'modDate': \"D:20240801135325+08'00'\", 'trapped': '', 'encryption': None, 'page': 4, 'total_pages': 5, 'file_path': '永續資料_與中信有關\\\\永續管理政策.pdf'}, excluded_embed_metadata_keys=[], excluded_llm_metadata_keys=[], relationships={}, text='```\\n文件等級：公開\\n\\n```\\n```\\n第四條 永續策略與發展目標\\n    本公司以「永續成長」、「責任營運」及「共榮社會」為永續發展三大策略面\\n    向，並承諾以此作為管理方針，促進符合集團價值的永續文化，為本公司\\n    利害關係人創造長期之共享價值：\\n    一、永續成長\\n      結合永續發展及數位科技趨勢，本公司督導子公司持續精進創新金\\n      融商品、服務與作業品質，達成永續成長。承諾：\\n\\n```\\n(一)、致力開發與聯合國永續發展目標連結之金融商品與服務，包\\n```\\n        含但不限於包容性金融(Inclusive Finance)及低碳經濟領域，\\n         期透過資金運用， 打造正向影響(positive impact)金融圈。\\n\\n```\\n(二)、運用數位技術，創建人人可以取得、使用的金融系統，提供客\\n```\\n        戶更便捷、創新及安全的金融服務。\\n    二、責任營運\\n      良好的職場環境、企業文化，以及健全的公司治理制度是本公司永續\\n      經營的根本。本公司督導子公司在自身營運過程中，致力於降低所產\\n      生的直接、間接環境衝擊，以落實整體責任營運。承諾：\\n\\n```\\n(一)、視人才為公司永續發展之關鍵資本。透過平等的工作環境\\n\\n4\\n\\n\\n-----\\n\\n', mimetype='text/plain', start_char_idx=None, end_char_idx=None, text_template='{metadata_str}\\n\\n{content}', metadata_template='{key}: {value}', metadata_seperator='\\n')"
      ]
     },
     "execution_count": 9,
     "metadata": {},
     "output_type": "execute_result"
    }
   ],
   "source": [
    "llama_docs[3]"
   ]
  },
  {
   "cell_type": "code",
   "execution_count": 25,
   "id": "18455135",
   "metadata": {},
   "outputs": [
    {
     "name": "stdout",
     "output_type": "stream",
     "text": [
      "文件等級：公開\n",
      "\n",
      "\n",
      "第四條 永續策略與發展目標    本公司以「永續成長」、「責任營運」及「共榮社會」為永續發展三大策略面    向，並承諾以此作為管理方針，促進符合集團價值的永續文化，為本公司    利害關係人創造長期之共享價值：    一、永續成長      結合永續發展及數位科技趨勢，本公司督導子公司持續精進創新金      融商品、服務與作業品質，達成永續成長。承諾：\n",
      "\n",
      "(一)、致力開發與聯合國永續發展目標連結之金融商品與服務，包\n",
      "\n",
      "        含但不限於包容性金融(Inclusive Finance)及低碳經濟領域，         期透過資金運用， 打造正向影響(positive impact)金融圈。\n",
      "\n",
      "(二)、運用數位技術，創建人人可以取得、使用的金融系統，提供客\n",
      "\n",
      "        戶更便捷、創新及安全的金融服務。    二、責任營運      良好的職場環境、企業文化，以及健全的公司治理制度是本公司永續      經營的根本。本公司督導子公司在自身營運過程中，致力於降低所產      生的直接、間接環境衝擊，以落實整體責任營運。承諾：\n",
      "\n",
      "(一)、視人才為公司永續發展之關鍵資本。透過平等的工作環境\n",
      "\n",
      "4\n",
      "\n",
      "\n",
      "-----\n"
     ]
    }
   ],
   "source": [
    "output_md = clean_markdown(llama_docs[3].text)\n",
    "print(output_md)"
   ]
  },
  {
   "cell_type": "markdown",
   "id": "c6aed937",
   "metadata": {},
   "source": [
    "## 使用 pdfplumber 工具將 pdf 轉文字內容"
   ]
  },
  {
   "cell_type": "code",
   "execution_count": 19,
   "id": "c5d1fa32",
   "metadata": {},
   "outputs": [
    {
     "name": "stdout",
     "output_type": "stream",
     "text": [
      "中國信託金融控股股份有限公司\n",
      "永續管理政策\n",
      "版本<2.0>\n",
      "中國信託金融控股(股)公司\n",
      "著作權聲明\n",
      "本文件所載之各項著作內容皆屬中國信託金融控股(股)公司所有，皆受到中華\n",
      "民國著作權法的保護，未經書面同意不得以任何形式修改、複製及轉載。\n",
      "管制文件, 禁止翻印\n"
     ]
    }
   ],
   "source": [
    "import pdfplumber\n",
    "\n",
    "with pdfplumber.open(pdf_path) as pdf:\n",
    "    first_page = pdf.pages[0]\n",
    "    text = first_page.extract_text()\n",
    "    print(text)\n"
   ]
  },
  {
   "cell_type": "code",
   "execution_count": null,
   "id": "8b52eb3f",
   "metadata": {},
   "outputs": [
    {
     "name": "stdout",
     "output_type": "stream",
     "text": [
      "Phase: analysis, Page 0/5, Progress: 0.0%, Message: Starting PDF analysis\n",
      "Phase: analysis, Page 1/5, Progress: 14.0%, Message: Analyzing\n",
      "Phase: analysis, Page 2/5, Progress: 28.0%, Message: Analyzing\n",
      "Phase: analysis, Page 3/5, Progress: 42.0%, Message: Analyzing\n",
      "Phase: analysis, Page 4/5, Progress: 56.0%, Message: Analyzing\n",
      "Phase: analysis, Page 5/5, Progress: 70.0%, Message: Analyzing\n",
      "Phase: conversion, Page 0/5, Progress: 70.0%, Message: Analysis complete, beginning content extraction\n",
      "Phase: conversion, Page 1/5, Progress: 76.0%, Message: Converting content to Markdown\n",
      "Phase: conversion, Page 2/5, Progress: 82.0%, Message: Converting content to Markdown\n",
      "Phase: conversion, Page 3/5, Progress: 88.0%, Message: Converting content to Markdown\n",
      "Phase: conversion, Page 4/5, Progress: 94.0%, Message: Converting content to Markdown\n",
      "Phase: conversion, Page 5/5, Progress: 100.0%, Message: Converting content to Markdown\n",
      "Phase: conversion, Page 5/5, Progress: 100.0%, Message: Conversion complete\n"
     ]
    }
   ],
   "source": [
    "# 將指定 PDF 檔轉為 Markdown 格式字串\n",
    "markdown_content = converter.convert(pdf_path)"
   ]
  },
  {
   "cell_type": "code",
   "execution_count": 20,
   "id": "8142b5bc",
   "metadata": {},
   "outputs": [
    {
     "ename": "AttributeError",
     "evalue": "type object 'PDF2Markdown4LLM' has no attribute 'to_markdown'",
     "output_type": "error",
     "traceback": [
      "\u001b[1;31m---------------------------------------------------------------------------\u001b[0m",
      "\u001b[1;31mAttributeError\u001b[0m                            Traceback (most recent call last)",
      "Cell \u001b[1;32mIn[20], line 2\u001b[0m\n\u001b[0;32m      1\u001b[0m \u001b[38;5;66;03m# 只處理第 1 頁（Python 的頁碼從 0 開始計算）\u001b[39;00m\n\u001b[1;32m----> 2\u001b[0m md_text \u001b[38;5;241m=\u001b[39m \u001b[43mPDF2Markdown4LLM\u001b[49m\u001b[38;5;241;43m.\u001b[39;49m\u001b[43mto_markdown\u001b[49m(pdf_path, pages\u001b[38;5;241m=\u001b[39m[\u001b[38;5;241m0\u001b[39m])\n",
      "\u001b[1;31mAttributeError\u001b[0m: type object 'PDF2Markdown4LLM' has no attribute 'to_markdown'"
     ]
    }
   ],
   "source": [
    "# 只處理第 1 頁（Python 的頁碼從 0 開始計算）\n",
    "md_text = PDF2Markdown4LLM.to_markdown(pdf_path, pages=[0])"
   ]
  },
  {
   "cell_type": "markdown",
   "id": "8cae1642",
   "metadata": {},
   "source": [
    "### 儲存結果\n",
    "將轉換後的 Markdown 內容寫入 output.md，以 UTF-8 編碼儲存。"
   ]
  },
  {
   "cell_type": "code",
   "execution_count": null,
   "id": "b0454e01",
   "metadata": {},
   "outputs": [],
   "source": [
    "# 將轉換後的 Markdown 內容寫入 .md 檔\n",
    "with open(\"output.md\", \"w\", encoding=\"utf-8\") as md_file:\n",
    "    md_file.write(markdown_content)"
   ]
  }
 ],
 "metadata": {
  "kernelspec": {
   "display_name": "base",
   "language": "python",
   "name": "python3"
  },
  "language_info": {
   "codemirror_mode": {
    "name": "ipython",
    "version": 3
   },
   "file_extension": ".py",
   "mimetype": "text/x-python",
   "name": "python",
   "nbconvert_exporter": "python",
   "pygments_lexer": "ipython3",
   "version": "3.8.8"
  }
 },
 "nbformat": 4,
 "nbformat_minor": 5
}
