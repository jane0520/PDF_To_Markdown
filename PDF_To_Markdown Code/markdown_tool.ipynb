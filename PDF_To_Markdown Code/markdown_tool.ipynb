{
 "cells": [
  {
   "cell_type": "code",
   "execution_count": null,
   "id": "a8d527b3",
   "metadata": {},
   "outputs": [],
   "source": [
    "%pip install pymupdf4llm llama-index pdfplumber\n",
    "%pip install llama-index==0.10.32"
   ]
  },
  {
   "cell_type": "code",
   "execution_count": null,
   "id": "1e10dc62",
   "metadata": {},
   "outputs": [],
   "source": [
    "import pymupdf4llm\n",
    "import os\n",
    "\n",
    "Tool = \"PyMuPDF4LLM\"\n",
    "file_name = \"2024TCFD_final\"\n",
    "\n",
    "pdf_path = r\"C:\\Users\\lee\\OneDrive\\Desktop\\2024TCFD_final.pdf\"  \n",
    "\n",
    "desktop_path = os.path.join(os.path.expanduser(\"~\"), \"Desktop\")\n",
    "\n",
    "\n",
    "base_output_path = os.path.join(desktop_path, \"PDF_OP_File\")\n",
    "markdown_save_path = os.path.join(base_output_path, \"pymupdf4llm_markdown\")\n",
    "img_save_path = os.path.join(base_output_path, \"pymupdf4llm_img\")\n",
    "\n"
   ]
  },
  {
   "cell_type": "code",
   "execution_count": null,
   "id": "6d496c33",
   "metadata": {},
   "outputs": [],
   "source": [
    "os.makedirs(markdown_save_path, exist_ok=True)\n",
    "os.makedirs(img_save_path, exist_ok=True)"
   ]
  },
  {
   "cell_type": "markdown",
   "id": "12d4e367",
   "metadata": {},
   "source": [
    "## pymupdf4llm 基礎指令，將 PDF 檔轉 Markdown"
   ]
  },
  {
   "cell_type": "code",
   "execution_count": null,
   "id": "6d14ff34",
   "metadata": {},
   "outputs": [],
   "source": [
    "output_file_path = os.path.join(markdown_save_path, file_name + \"_test1.md\")\n",
    "md_text = pymupdf4llm.to_markdown(pdf_path)\n",
    "\n",
    "with open(output_file_path, \"w\", encoding=\"utf-8\") as f:\n",
    "    f.write(md_text)"
   ]
  }
 ],
 "metadata": {
  "language_info": {
   "name": "python"
  }
 },
 "nbformat": 4,
 "nbformat_minor": 5
}
